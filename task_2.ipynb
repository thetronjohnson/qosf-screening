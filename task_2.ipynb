{
 "cells": [
  {
   "cell_type": "markdown",
   "metadata": {},
   "source": [
    "# QOSF Screening\n",
    "---\n",
    "### Task: Implement a circuit that returns |01> and |10> with equal probability\n",
    "- Circuit should only contain rx,ry and cx\n",
    "- All parameters are randomly chosen\n",
    "- Find the right set of parameters using gradient descent\n",
    "- Simulations must be done with sampling: limited no of measurements per iteration and noise\n",
    "\n",
    "###  The Approach\n",
    "---\n",
    "\n",
    "- Consider the two qubits of the required circuit separately\n",
    "- We know that before applying the CNOT\n",
    "    - q0 must be in the state $${\\frac{|{0}\\rangle + |{1}\\rangle}{\\sqrt{2}}}$$\n",
    "    - q1 must be in the state $$|{1}\\rangle$$\n",
    "\n",
    "#### Qubit q0\n",
    "---\n",
    "Initial state: $$|{0}\\rangle$$\n",
    "On applying RY gate: \n",
    "$$\n",
    "\\begin{bmatrix}\n",
    "cos(\\frac{\\theta}{2}) & -sin(\\frac{\\theta}{2}) \\\\\n",
    "sin(\\frac{\\theta}{2}) & cos(\\frac{\\theta}{2})\n",
    "\\end{bmatrix}\n",
    "\\begin{bmatrix}\n",
    "1\\\\0\n",
    "\\end{bmatrix}\n",
    "=\n",
    "$$\n",
    "\n",
    "\\begin{bmatrix}\n",
    "cos(\\frac{\\theta}{2}) \\\\\n",
    "sin(\\frac{\\theta}{2})\n",
    "\\end{bmatrix}\n",
    "\n",
    "Here,\n",
    "$$\n",
    "sin(\\frac{\\theta}{2}) = cos(\\frac{\\theta}{2}) \\\\\n",
    "tan(\\frac{\\theta}{2}) = 1 \\\\\n",
    "$$\n",
    "\n",
    "We need to minimize\n",
    "$$tan(\\frac{\\theta}{2})-1=0$$\n",
    "\n",
    "#### Qubit q1\n",
    "---\n",
    "Initial state: $$|{0}\\rangle$$\n",
    "We need to get to the state $$|{1}\\rangle$$\n",
    "We know that the Expectation value of $$|{1}\\rangle$$ with respect to Pauli Z is -1\n",
    "\n",
    "$$\\langle{1}|Z|{1}\\rangle = -1$$\n",
    "So we arrive at |1> from |0> by applying an RY gate on |0> and minimizing the expectation value of the resulting statevector\n",
    "\n",
    "---"
   ]
  },
  {
   "cell_type": "code",
   "execution_count": 1,
   "metadata": {},
   "outputs": [],
   "source": [
    "# importing necessary packages\n",
    "import pennylane as qml\n",
    "from pennylane import numpy as np\n",
    "from qiskit import *\n",
    "from qiskit.quantum_info import Statevector\n",
    "import qiskit.providers.aer.noise as noise\n",
    "from qiskit.visualization import plot_histogram"
   ]
  },
  {
   "cell_type": "code",
   "execution_count": 2,
   "metadata": {},
   "outputs": [],
   "source": [
    "device = qml.device(\"default.qubit\",wires=1) # setting up a simulator\n",
    "np.random.seed(41)\n",
    "def gd(initial,cost): # gradient descent function\n",
    "    opt = qml.GradientDescentOptimizer(stepsize=0.1)\n",
    "    steps = 100\n",
    "    params = initial\n",
    "\n",
    "    for i in range(steps):\n",
    "        params = opt.step(cost,params)\n",
    "    \n",
    "        if((i+1)%100 == 0):\n",
    "            print(f\"Cost after step {i+1}: {cost(params)}\")\n",
    "\n",
    "    print(f\"Optimal Angles: {params}\")\n",
    "    return params\n",
    "\n",
    "def quantum_circuit(theta,phi): # quantum circuit function\n",
    "    circ = QuantumCircuit(2)\n",
    "    circ.ry(theta,0)\n",
    "    circ.ry(phi,1)\n",
    "    circ.cx(0,1)\n",
    "    circ.measure_all()\n",
    "    return circ"
   ]
  },
  {
   "cell_type": "code",
   "execution_count": 3,
   "metadata": {},
   "outputs": [],
   "source": [
    "def cost_0(params):\n",
    "    return ((np.tan(params[0]/2)**2)-1)**2\n",
    "@qml.qnode(device)\n",
    "def circuit_0(params):\n",
    "    qml.RY(params[0], wires=0)\n",
    "    return qml.probs(wires=0)\n",
    "\n",
    "def cost_1(x):\n",
    "    return circuit_1(x)\n",
    "\n",
    "@qml.qnode(device)\n",
    "def circuit_1(params):\n",
    "    qml.RY(params[0], wires=0)\n",
    "    return qml.expval(qml.PauliZ(0))\n",
    "\n",
    "shots = [1,10,100,1000]"
   ]
  },
  {
   "cell_type": "code",
   "execution_count": 4,
   "metadata": {},
   "outputs": [
    {
     "name": "stdout",
     "output_type": "stream",
     "text": [
      "0.9684383815443279\n"
     ]
    }
   ],
   "source": [
    "initial = np.random.rand(1)\n",
    "print(cost_0(initial))"
   ]
  },
  {
   "cell_type": "code",
   "execution_count": 5,
   "metadata": {},
   "outputs": [
    {
     "name": "stdout",
     "output_type": "stream",
     "text": [
      "0.998937775764933\n"
     ]
    }
   ],
   "source": [
    "initial = np.random.rand(1)\n",
    "print(cost_1(initial))"
   ]
  },
  {
   "cell_type": "code",
   "execution_count": 6,
   "metadata": {},
   "outputs": [
    {
     "name": "stdout",
     "output_type": "stream",
     "text": [
      "Cost after step 100: 4.930380657631324e-32\n",
      "Optimal Angles: [1.57079633]\n"
     ]
    }
   ],
   "source": [
    "theta = gd(initial,cost_0)[0]"
   ]
  },
  {
   "cell_type": "code",
   "execution_count": 7,
   "metadata": {},
   "outputs": [
    {
     "name": "stdout",
     "output_type": "stream",
     "text": [
      "Cost after step 100: -0.9999940775861778\n",
      "Optimal Angles: [3.13815102]\n"
     ]
    }
   ],
   "source": [
    "phi = gd(initial,cost_1)[0]"
   ]
  },
  {
   "cell_type": "markdown",
   "metadata": {},
   "source": [
    "## Sampling Without Noise\n",
    "---"
   ]
  },
  {
   "cell_type": "code",
   "execution_count": 8,
   "metadata": {},
   "outputs": [
    {
     "data": {
      "image/png": "[encoded data removed]",
      "text/plain": [
       "<Figure size 472.059x204.68 with 1 Axes>"
      ]
     },
     "execution_count": 8,
     "metadata": {},
     "output_type": "execute_result"
    }
   ],
   "source": [
    "circ = quantum_circuit(theta,phi)\n",
    "circ.draw('mpl')"
   ]
  },
  {
   "cell_type": "code",
   "execution_count": 9,
   "metadata": {},
   "outputs": [
    {
     "data": {
      "image/png": "[encoded data removed]",
      "text/plain": [
       "<Figure size 504x360 with 1 Axes>"
      ]
     },
     "execution_count": 9,
     "metadata": {},
     "output_type": "execute_result"
    }
   ],
   "source": [
    "counts_list = []\n",
    "for shot in shots:\n",
    "    backend = Aer.get_backend('qasm_simulator')\n",
    "    job = execute(circ,backend=backend,shots=shot)\n",
    "    counts = job.result().get_counts()\n",
    "    counts_list.append(counts)\n",
    "plot_histogram(counts_list, legend =['1', '10', '100', '1000'])"
   ]
  },
  {
   "cell_type": "markdown",
   "metadata": {},
   "source": [
    "## Sampling with Noise\n",
    "---"
   ]
  },
  {
   "cell_type": "code",
   "execution_count": 10,
   "metadata": {},
   "outputs": [
    {
     "data": {
      "image/png": "[encoded data removed]",
      "text/plain": [
       "<Figure size 472.059x204.68 with 1 Axes>"
      ]
     },
     "execution_count": 10,
     "metadata": {},
     "output_type": "execute_result"
    }
   ],
   "source": [
    "circ = quantum_circuit(theta,phi)\n",
    "circ.draw('mpl')"
   ]
  },
  {
   "cell_type": "code",
   "execution_count": 11,
   "metadata": {},
   "outputs": [],
   "source": [
    "prob_1 = 0.001  # 1-qubit gate\n",
    "prob_2 = 0.01   # 2-qubit gate\n",
    "error_1 = noise.depolarizing_error(prob_1, 1)\n",
    "error_2 = noise.depolarizing_error(prob_2, 2)\n",
    "noise_model = noise.NoiseModel()\n",
    "noise_model.add_all_qubit_quantum_error(error_1, ['rx', 'ry'])\n",
    "noise_model.add_all_qubit_quantum_error(error_2, ['cx'])"
   ]
  },
  {
   "cell_type": "code",
   "execution_count": 12,
   "metadata": {},
   "outputs": [
    {
     "data": {
      "image/png": "[encoded data removed]",
      "text/plain": [
       "<Figure size 504x360 with 1 Axes>"
      ]
     },
     "execution_count": 12,
     "metadata": {},
     "output_type": "execute_result"
    }
   ],
   "source": [
    "counts_list = []\n",
    "for shot in shots:\n",
    "    backend = Aer.get_backend('qasm_simulator')\n",
    "    job = execute(circ,backend=backend,shots=shot,noise_model=noise_model)\n",
    "    counts = job.result().get_counts()\n",
    "    counts_list.append(counts)\n",
    "plot_histogram(counts_list,legend=['1','10','100','1000'])"
   ]
  }
 ],
 "metadata": {
  "kernelspec": {
   "display_name": "Python 3",
   "language": "python",
   "name": "python3"
  },
  "language_info": {
   "codemirror_mode": {
    "name": "ipython",
    "version": 3
   },
   "file_extension": ".py",
   "mimetype": "text/x-python",
   "name": "python",
   "nbconvert_exporter": "python",
   "pygments_lexer": "ipython3",
   "version": "3.8.1"
  }
 },
 "nbformat": 4,
 "nbformat_minor": 4
}
